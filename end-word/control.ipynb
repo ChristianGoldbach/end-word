{
 "nbformat": 4,
 "nbformat_minor": 2,
 "metadata": {
  "language_info": {
   "name": "python",
   "codemirror_mode": {
    "name": "ipython",
    "version": 3
   }
  },
  "orig_nbformat": 2,
  "file_extension": ".py",
  "mimetype": "text/x-python",
  "name": "python",
  "npconvert_exporter": "python",
  "pygments_lexer": "ipython3",
  "version": 3
 },
 "cells": [
  {
   "cell_type": "code",
   "execution_count": null,
   "metadata": {},
   "outputs": [],
   "source": [
    "# Third-party imports\n",
    "import docx\n",
    "\n",
    "# Local imports\n",
    "import helpers\n",
    "import styling.word_table as word_table\n",
    "import common\n",
    "import assembler"
   ]
  },
  {
   "cell_type": "code",
   "execution_count": null,
   "metadata": {},
   "outputs": [],
   "source": [
    "dest = DocxTemplate(title_page)  # Setup template\n",
    "dest.add_paragraph().add_run().add_break(WD_BREAK.PAGE)  # Go to a new page\n",
    "\n",
    "# Append all content to destination\n",
    "for content in contents:\n",
    "    print(content)\n",
    "    if 'xlsx' in content:\n",
    "        if 'tbl' in content:\n",
    "            assembler.append_xlsx(dest, content)\n",
    "        elif 'chart' in content:\n",
    "            pass  # placeholder for charting function\n",
    "        # Add space after Excel table\n",
    "        dest.add_paragraph().paragraph_format.space_after = Pt(20)\n",
    "    elif 'docx' in content:\n",
    "        cols = content[:-5].split('_')[-1]  # Read from filename...need a better way of doing this\n",
    "        assembler.append_docx(dest, content, columns=cols, separate_header=True)\n",
    "assembler.publish()"
   ]
  },
  {
   "cell_type": "code",
   "execution_count": null,
   "metadata": {},
   "outputs": [],
   "source": []
  }
 ]
}