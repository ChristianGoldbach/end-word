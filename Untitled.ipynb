{
 "cells": [
  {
   "cell_type": "markdown",
   "metadata": {},
   "source": [
    "# Prototype\n",
    "\n",
    "- Can we use python to compile LaTeX?\n",
    "- Can we use python to generate LaTeX?\n",
    "\n",
    "## Resources\n",
    "- [Automate your Paperwork with Latex and Python](http://akuederle.com/Automatization-with-Latex-and-Python-2)\n",
    "- [PyLaTeX](https://jeltef.github.io/PyLaTeX/current/)\n",
    "- "
   ]
  },
  {
   "cell_type": "code",
   "execution_count": null,
   "metadata": {},
   "outputs": [],
   "source": []
  }
 ],
 "metadata": {
  "kernelspec": {
   "display_name": "Python 3",
   "language": "python",
   "name": "python3"
  },
  "language_info": {
   "codemirror_mode": {
    "name": "ipython",
    "version": 3
   },
   "file_extension": ".py",
   "mimetype": "text/x-python",
   "name": "python",
   "nbconvert_exporter": "python",
   "pygments_lexer": "ipython3",
   "version": "3.7.3"
  }
 },
 "nbformat": 4,
 "nbformat_minor": 2
}
